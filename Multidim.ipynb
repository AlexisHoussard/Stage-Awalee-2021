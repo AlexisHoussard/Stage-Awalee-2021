{
 "cells": [
  {
   "cell_type": "markdown",
   "metadata": {},
   "source": [
    "# Version multidimensionnelle (Piterbarg 2 p.575)\n",
    "\n",
    "\n",
    "On pose $$\\chi(t) = - \\frac{\\mathrm{d}H(t)}{\\mathrm{d}t} H(t)^{-1}$$ Et $H(t) = diag(h(t)) = diag\\big( (h_1(t),...,h_d(t) )\\big)$\n",
    "\n",
    "Donc $$\\chi(t) = \\begin{pmatrix} -h_1'(t) & 0 \\\\ ... & ... \\\\ 0 .. & -h_d'(t)\\end{pmatrix} \\begin{pmatrix} h_1(t) & 0 \\\\ ... & ... \\\\ 0 .. & h_d(t)\\end{pmatrix}^{-1} \\\\\n",
    "\\iff \\chi(t) = \\begin{pmatrix} - \\frac{h_i'(t)}{h_i(t)} \\mathbb{1}_{i=j} \\end{pmatrix}$$\n",
    "\n",
    "Donc $$\\forall i=1,d, \\quad h_i(t) = e^{-\\chi_i t}$$\n",
    "\n",
    "Avec cela, $$H(t) H^f(t)^{-1} = \\big(H^f(t) H(t)^{-1} \\big)^{-1} = \\begin{bmatrix} e^{\\chi_1 t}e^{-\\chi_1 (t+\\delta_1)} & ... & e^{\\chi_d t} e^{-chi_d (t+\\delta_1)} \\\\\n",
    " & ... & \\\\\n",
    "e^{\\chi_1 t}e^{-\\chi_1 (t+\\delta_d)} & ... & e^{\\chi_d t}e^{-\\chi_d (t+\\delta_d)} \\end{bmatrix}^{-1} \\\\\n",
    "= \\begin{bmatrix} e^{-\\chi_1 \\delta_1} & ... & e^{-\\chi_d \\delta_1} \\\\\n",
    " & ... & \\\\\n",
    "e^{-\\chi_1 \\delta_d} & ... & e^{-\\chi_d \\delta_d} \\end{bmatrix}^{-1}$$\n",
    "\n",
    "Enfin on pose la volatilité locale: $$\\sigma_r(t,x(t),y(t))^\\top = H(t) H^f(t)^{-1} \\begin{pmatrix} \\lambda_1(a_1 + b_1 f_1(t)) & 0 & 0.. \\\\ 0 & \\lambda_2(a_2 + b_2 f_2(t)) & 0 ..\\\\ 0 & .. & \\lambda_d(a_d + b_d f_d(t))\\end{pmatrix} \\ D^f(t)^\\top \\\\\n",
    "= \\tilde{H}(t) \\ \\sigma^f(t,f(t)) \\ D^f(t)^\\top$$\n",
    "\n",
    "Où $D^f(t)^\\top$ est telle que $$\\Gamma = D^f(t)^\\top D^f(t)$$ avec $\\Gamma$ la matrice de corrélation des taux $f_i(t)$.\n",
    "\n",
    "Enfin, $$\\forall i =1,d, \\quad f_i(t) = f(t,t + \\delta_i) = f(0,t+\\delta_i) + \\mathbf{1}^\\top H(t+ \\delta_i) H(t)^{-1} \\big(x(t) + y(t) \\ G(t,t+\\delta_i)\\big)$$\n",
    "\n",
    "$$G(t,T) = \\int_{t}^{T} H(u) H(t)^{-1} \\mathbf{1} \\ \\mathrm{d}u \\\\\n",
    "= \\begin{bmatrix} \\frac{1 - e^{- \\chi_1(T-t)}}{\\chi_1} \\\\ ... \\\\ \\frac{1 - e^{- \\chi_d(T-t)}}{\\chi_d} \\end{bmatrix}$$"
   ]
  },
  {
   "cell_type": "code",
   "execution_count": 1,
   "metadata": {},
   "outputs": [],
   "source": [
    "import numpy as np\n",
    "import math\n",
    "from time import time\n",
    "\n",
    "def vecteur_uni(d):\n",
    "    return np.transpose(np.ones(d))\n",
    "\n",
    "def diag(v):\n",
    "    n = len(v)\n",
    "    mat = np.zeros((n,n))\n",
    "    for i in range(n):\n",
    "        mat[i][i] = v[i]\n",
    "    return mat"
   ]
  },
  {
   "cell_type": "code",
   "execution_count": 2,
   "metadata": {},
   "outputs": [],
   "source": [
    "#return cholesky decomposition D of the correlation matrix\n",
    "def D(corr_mat):\n",
    "    return np.linalg.cholesky(corr_mat)\n",
    "\n",
    "def H(t,chi,d):\n",
    "    v = [np.exp(-chi[i]*t) for i in range(d)]\n",
    "    return diag(v)\n",
    "\n",
    "def H_tilde(chi,delta,d):\n",
    "    resu = np.zeros((d,d))\n",
    "    for i in range(d):\n",
    "        for j in range(d):\n",
    "            resu[i][j] = np.exp(-chi[j] * delta[i])\n",
    "    return np.linalg.inv(resu)\n",
    "\n",
    "def G(t,T,chi,d):\n",
    "    resu = np.zeros(d)\n",
    "    for i in range(d):\n",
    "        resu[i] = (1-np.exp(-chi[i]*(T-t)))/chi[i]\n",
    "    return np.transpose(resu)\n",
    "    \n",
    "    \n",
    "# Return the forward rates f1(t),f2(t)... fd(t) \n",
    "#init_forward : vector f(0,t+delta1),... f(0,t+deltad)\n",
    "\n",
    "def f(t,chi,delta,d,init_forward,x,y):\n",
    "    resu = np.zeros(d)\n",
    "    Gt = np.array([G(t,t+delta[i],chi,d) for i in range(d)])\n",
    "    for i in range(d):\n",
    "        vect1 = np.array([np.exp(-chi[j]*delta[i]) for j in range(d)])\n",
    "        vect2 = x + y.dot(Gt[i])\n",
    "        resu[i] = init_forward[i] + vect1.dot(vect2)\n",
    "    return resu"
   ]
  },
  {
   "cell_type": "markdown",
   "metadata": {},
   "source": [
    "$$r(t) = f(0,t) + \\mathbb{1}^\\top x(t) \\\\ \\implies e^{- \\int_{0}^{T_0} r(s) \\ \\mathrm{d}s} = P(0,T_0) \\ e^{- \\sum_{i=1}^d \\int_{0}^{T_0} x^{(i)}(s) \\ \\mathrm{d}s} = P(0,T_0) \\ e^{\\sum_{i=1}^d I_i(T_0)}$$\n",
    "\n",
    "Simulation des trajectoires de $x,y,I$ en dimension $d$.\n",
    "La fonction renvoit M triplets du type $$\\begin{bmatrix} x_1(T_0) & ... & x_d(T_0) \\end{bmatrix} ,  \n",
    "\\begin{bmatrix} y_{1,1}(T_0) & ... & y_{1,d}(T_0) \\\\\n",
    "... \\\\\n",
    "y_{d,1}(T_0) & ... & y_{d,d}(T_0) \\end{bmatrix} , \n",
    "\\begin{bmatrix} I_1(T_0) & ... & I_d(T_0)\\end{bmatrix}$$"
   ]
  },
  {
   "cell_type": "code",
   "execution_count": 3,
   "metadata": {},
   "outputs": [],
   "source": [
    "#Limite supérieure des diffusions de x_1,...,x_d : limiter artificiellement les elements à 1e10 pour éviter les explosions\n",
    "def lim_sup_diff(d,x):\n",
    "    for i in range(d):\n",
    "        if(x[i]>1e10):\n",
    "            x[i] = 1e10\n",
    "    return x\n",
    "\n",
    "#Simulation du schéma discret\n",
    "def simul_multi(M,N,T0,d,chi,delta,init_forward,corr_mat,lmbda,a,b):\n",
    "    dt = T0/N\n",
    "    resu_x = np.zeros((M,d))\n",
    "    resu_y = np.zeros((M,d,d))\n",
    "    resu_I = np.zeros((M,d))\n",
    "    v_uni = vecteur_uni(d)\n",
    "    chi_mat = diag(chi)\n",
    "    for m in range(M):\n",
    "        I = np.zeros(d)\n",
    "        x = np.zeros(d)\n",
    "        y = np.zeros((d,d))\n",
    "        Z = np.random.standard_normal(N*d)\n",
    "        for i in range(N):\n",
    "            t = i * dt\n",
    "            #construction de sigma\n",
    "            H_tild = H_tilde(chi,delta,d)\n",
    "            ft = f(t,chi,delta,d,init_forward,x,y)\n",
    "            diag_sigmaf = [lmbda[k] * (a[k] + b[k]*ft[k]) for k in range(d)]\n",
    "            sigma_f = diag(diag_sigmaf)\n",
    "            Df = D(corr_mat)\n",
    "            sigma_i = H_tild.dot(sigma_f.dot(np.transpose(Df)))\n",
    "            # incrément gaussien\n",
    "            incr = math.sqrt(dt)*np.array([Z[i*d+j] for j in range(d)])\n",
    "\n",
    "            I = I - x * dt\n",
    "            \n",
    "            x = x + (y.dot(v_uni) - chi_mat.dot(x)) * dt + sigma_i.dot(incr)\n",
    "            x = lim_sup_diff(d,x) #On prend gare à l'explosion d'un terme\n",
    "            \n",
    "            y = y + (sigma_i.dot(np.transpose(sigma_i)) - chi_mat.dot(y) - y.dot(chi_mat)) * dt\n",
    "        resu_I[m] = I\n",
    "        resu_x[m] = x\n",
    "        resu_y[m] = y\n",
    "    return resu_I,resu_x,resu_y"
   ]
  },
  {
   "cell_type": "code",
   "execution_count": 4,
   "metadata": {},
   "outputs": [],
   "source": [
    "def payoff_swaption_multi(d,maturities,bonds,x,y,chi,K):\n",
    "    T0 = maturities[0]                             #maturities = [T0,...,TN]\n",
    "    nb_maturities = len(maturities)\n",
    "    A = 0\n",
    "    #calculate the annuity A\n",
    "    for n in range(nb_maturities-1):\n",
    "        g = G(T0,maturities[n+1],chi,d)\n",
    "        A += (maturities[n+1]-maturities[n])*bonds[n+1]*np.exp(-1*g.dot(x)-0.5*g.dot(y.dot(g)))\n",
    "    g = G(T0,maturities[-1],chi,d)\n",
    "    swap = bonds[0] - bonds[-1]*np.exp(-1*g.dot(x)-0.5*g.dot(y.dot(g))) - K*A\n",
    "    if swap>0:\n",
    "        return swap\n",
    "    else:\n",
    "        return 0"
   ]
  },
  {
   "cell_type": "code",
   "execution_count": 5,
   "metadata": {},
   "outputs": [],
   "source": [
    "def swaption_MC_multi(d,M,sim,K,chi,bonds,maturities,exec_time=False,variance = False):\n",
    "    t1 = time()\n",
    "    Monte_Carlo = 0\n",
    "    moment_2 = 0\n",
    "    I,X,Y = sim\n",
    "    for m in range(M):\n",
    "        int_x = I[m]\n",
    "        x = X[m]\n",
    "        y = Y[m]\n",
    "        s_m = np.exp(sum(int_x))*payoff_swaption_multi(d,maturities,bonds,x,y,chi,K)\n",
    "        Monte_Carlo += s_m\n",
    "        moment_2 += s_m**2\n",
    "    t2 = time()\n",
    "    price = Monte_Carlo/M\n",
    "    if(exec_time):\n",
    "        print(\"Execution time: \",t2-t1, \"sec\")\n",
    "    if(variance):\n",
    "        var = moment_2/M - price**2\n",
    "        print(\"Variance:\",var)\n",
    "    return price"
   ]
  },
  {
   "cell_type": "markdown",
   "metadata": {},
   "source": [
    "## Tests"
   ]
  },
  {
   "cell_type": "code",
   "execution_count": 12,
   "metadata": {},
   "outputs": [
    {
     "name": "stdout",
     "output_type": "stream",
     "text": [
      "H_tilde= [[  6.90849718 -11.39018625]\n",
      " [ -2.54149408   6.90849718]]\n",
      "[0.63212056 0.78693868]\n"
     ]
    }
   ],
   "source": [
    "d = 2\n",
    "chi = [1,0.5]\n",
    "delta = [1,2]\n",
    "\n",
    "print(\"H_tilde=\",H_tilde(chi,delta,d))\n",
    "\n",
    "print(G(0,1,chi,2))"
   ]
  },
  {
   "cell_type": "code",
   "execution_count": 13,
   "metadata": {},
   "outputs": [],
   "source": [
    "M = 1000\n",
    "N = 250\n",
    "T0 = 1\n",
    "init_forward = [0.05,0.05,0.05]\n",
    "corr_mat = np.eye(d)\n",
    "a = [0,0,0]\n",
    "b = [0.5,0.5,0.5]\n",
    "lmbda = [1,1,1]\n",
    "I,X,Y = simul_multi(M,N,T0,d,chi,delta,init_forward,corr_mat,lmbda,a,b)"
   ]
  },
  {
   "cell_type": "code",
   "execution_count": 8,
   "metadata": {},
   "outputs": [
    {
     "name": "stdout",
     "output_type": "stream",
     "text": [
      "[[nan nan nan]\n",
      " [nan nan nan]\n",
      " [nan nan nan]\n",
      " ...\n",
      " [nan nan nan]\n",
      " [nan nan nan]\n",
      " [nan nan nan]] [[[nan nan nan]\n",
      "  [nan nan nan]\n",
      "  [nan nan nan]]\n",
      "\n",
      " [[nan nan nan]\n",
      "  [nan nan nan]\n",
      "  [nan nan nan]]\n",
      "\n",
      " [[nan nan nan]\n",
      "  [nan nan nan]\n",
      "  [nan nan nan]]\n",
      "\n",
      " ...\n",
      "\n",
      " [[nan nan nan]\n",
      "  [nan nan nan]\n",
      "  [nan nan nan]]\n",
      "\n",
      " [[nan nan nan]\n",
      "  [nan nan nan]\n",
      "  [nan nan nan]]\n",
      "\n",
      " [[nan nan nan]\n",
      "  [nan nan nan]\n",
      "  [nan nan nan]]]\n"
     ]
    }
   ],
   "source": [
    "print(X,Y)"
   ]
  },
  {
   "cell_type": "code",
   "execution_count": 9,
   "metadata": {},
   "outputs": [
    {
     "data": {
      "text/plain": [
       "0.9001271274175793"
      ]
     },
     "execution_count": 9,
     "metadata": {},
     "output_type": "execute_result"
    }
   ],
   "source": [
    "y = np.zeros((3,3))\n",
    "x = np.array([1,1,1])\n",
    "K = 0.05\n",
    "maturities = [1,2,3]\n",
    "bonds = [np.exp(-0.05*m) for m in maturities]\n",
    "payoff_swaption_multi(d,maturities,bonds,x,y,chi,K)"
   ]
  },
  {
   "cell_type": "code",
   "execution_count": 10,
   "metadata": {},
   "outputs": [
    {
     "name": "stdout",
     "output_type": "stream",
     "text": [
      "Execution time:  0.03590130805969238 sec\n",
      "Variance: nan\n",
      "Temps pour M= 1000: 31.325398921966553 Prix =  nan\n",
      "\n",
      "Execution time:  0.39594197273254395 sec\n",
      "Variance: nan\n",
      "Temps pour M= 10000: 306.3957200050354 Prix =  nan\n",
      "\n",
      "Execution time:  3.9873998165130615 sec\n",
      "Variance: nan\n",
      "Temps pour M= 100000: 3158.533299446106 Prix =  nan\n",
      "\n"
     ]
    }
   ],
   "source": [
    "#Temps d'execution\n",
    "for m in [1000,10000,100000]:\n",
    "    t_start = time()\n",
    "    sim = simul_multi(m,N,T0,d,chi,delta,init_forward,corr_mat,lmbda,a,b)\n",
    "    prix = swaption_MC_multi(d,m,sim,K,chi,bonds,maturities,True,True)\n",
    "    t_finish = time()\n",
    "    print(\"Temps pour M= \" +str(m) + \":\",t_finish-t_start, \"Prix = \",prix)\n",
    "    print()"
   ]
  },
  {
   "cell_type": "markdown",
   "metadata": {},
   "source": [
    "| M | Temps (sec) | Variance |\n",
    "|--------------|-----------|-----------|\n",
    "| 1000         | 24.2     |    |\n",
    "| 10 000       |  262.7    |     |\n",
    "| 100 000      | 2454.7    |   |"
   ]
  },
  {
   "cell_type": "code",
   "execution_count": null,
   "metadata": {},
   "outputs": [],
   "source": []
  }
 ],
 "metadata": {
  "kernelspec": {
   "display_name": "Python 3",
   "language": "python",
   "name": "python3"
  },
  "language_info": {
   "codemirror_mode": {
    "name": "ipython",
    "version": 3
   },
   "file_extension": ".py",
   "mimetype": "text/x-python",
   "name": "python",
   "nbconvert_exporter": "python",
   "pygments_lexer": "ipython3",
   "version": "3.7.4"
  }
 },
 "nbformat": 4,
 "nbformat_minor": 2
}
